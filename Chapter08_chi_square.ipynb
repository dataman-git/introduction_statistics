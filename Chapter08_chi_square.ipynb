{
 "cells": [
  {
   "cell_type": "markdown",
   "id": "9007b57d-c2ff-4e61-8619-ece04b9f16b5",
   "metadata": {},
   "source": [
    "# Chapter 8: Chi-square tests"
   ]
  },
  {
   "cell_type": "markdown",
   "id": "392e95a8-16c9-467f-8e2c-359da2b2140f",
   "metadata": {},
   "source": [
    "### Chi-Square Goodness of Fit Test"
   ]
  },
  {
   "cell_type": "code",
   "execution_count": 5,
   "id": "9bb8e5d1-1b1a-46a0-8700-03909844ae3a",
   "metadata": {},
   "outputs": [
    {
     "name": "stdout",
     "output_type": "stream",
     "text": [
      "Chi−Square Statistic: 9.583333333333334\n",
      "P−value: 0.022461160919861143\n"
     ]
    }
   ],
   "source": [
    "from scipy.stats import chisquare\n",
    "  # Observed frequencies from last month's adoptions\n",
    "observed_counts = [50, 20, 15, 15]  # Dogs, Cats, Rabbits, Other\n",
    "  #Expected frequencies based on historical proportions (40%, 30%, 20%, 10%) out of 100\n",
    "expected_counts = [40, 30, 20, 10]\n",
    "  # Perform Chi-Square Goodness of Fit Test\n",
    "chi_square_statistic, p_value = chisquare(f_obs=observed_counts, f_exp=expected_counts)\n",
    "  # Output\n",
    "print(\"Chi−Square Statistic:\", chi_square_statistic)\n",
    "print(\"P−value:\", p_value)"
   ]
  },
  {
   "cell_type": "markdown",
   "id": "57acf576-5555-4be4-aafa-bdede88d71ab",
   "metadata": {},
   "source": [
    "### Chi-Square Test of Independence"
   ]
  },
  {
   "cell_type": "code",
   "execution_count": 6,
   "id": "62521051-dbcc-4363-9fad-5a6c89a5b3ae",
   "metadata": {},
   "outputs": [
    {
     "name": "stdout",
     "output_type": "stream",
     "text": [
      "Chi-Square Statistic: 0.6464646464646464\n",
      "P-value: 0.4213795037428696\n",
      "Degrees of Freedom: 1\n",
      "Expected Frequencies:\n",
      " [[27.5 22.5]\n",
      " [27.5 22.5]]\n"
     ]
    }
   ],
   "source": [
    "import numpy as np\n",
    "from scipy.stats import chi2_contingency\n",
    "\n",
    "# Creating the contingency table\n",
    "data = np.array([[30, 20],\n",
    "                 [25, 25]])\n",
    "\n",
    "# Perform Chi-Square Test of Independence\n",
    "chi2_stat, p_value, dof, expected = chi2_contingency(data)\n",
    "\n",
    "print(\"Chi-Square Statistic:\", chi2_stat)\n",
    "print(\"P-value:\", p_value)\n",
    "print(\"Degrees of Freedom:\", dof)\n",
    "print(\"Expected Frequencies:\\n\", expected)"
   ]
  },
  {
   "cell_type": "markdown",
   "id": "91a58e78-f81e-4518-bd1a-56a524aa1256",
   "metadata": {},
   "source": [
    "### Chi-Square Test of Homogeneity"
   ]
  },
  {
   "cell_type": "code",
   "execution_count": 8,
   "id": "0b3b9633-c7ac-474c-b3d2-1ae18d46d0ae",
   "metadata": {},
   "outputs": [
    {
     "name": "stdout",
     "output_type": "stream",
     "text": [
      "Chi-Square Statistic: 2.2222222222222223\n",
      "P-value: 0.694962974261134\n",
      "Degrees of Freedom: 4\n",
      "Expected Frequencies:\n",
      " [[45. 45. 60.]\n",
      " [45. 45. 60.]\n",
      " [45. 45. 60.]]\n"
     ]
    }
   ],
   "source": [
    "import numpy as np\n",
    "from scipy.stats import chi2_contingency\n",
    "\n",
    "# Creating the contingency table\n",
    "data = np.array([[40, 50, 60],\n",
    "                 [50, 40, 60],\n",
    "                 [45, 45, 60]])\n",
    "\n",
    "# Perform Chi-Square Test of Homogeneity\n",
    "chi2_stat, p_value, dof, expected = chi2_contingency(data)\n",
    "\n",
    "print(\"Chi-Square Statistic:\", chi2_stat)\n",
    "print(\"P-value:\", p_value)\n",
    "print(\"Degrees of Freedom:\", dof)\n",
    "print(\"Expected Frequencies:\\n\", expected)"
   ]
  },
  {
   "cell_type": "code",
   "execution_count": null,
   "id": "8b3776b1-0733-47e3-8158-072ef7e381a9",
   "metadata": {},
   "outputs": [],
   "source": []
  }
 ],
 "metadata": {
  "kernelspec": {
   "display_name": "STAT",
   "language": "python",
   "name": "stat"
  },
  "language_info": {
   "codemirror_mode": {
    "name": "ipython",
    "version": 3
   },
   "file_extension": ".py",
   "mimetype": "text/x-python",
   "name": "python",
   "nbconvert_exporter": "python",
   "pygments_lexer": "ipython3",
   "version": "3.11.11"
  }
 },
 "nbformat": 4,
 "nbformat_minor": 5
}
