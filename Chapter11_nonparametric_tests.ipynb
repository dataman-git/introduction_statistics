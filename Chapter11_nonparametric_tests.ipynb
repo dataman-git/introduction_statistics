{
 "cells": [
  {
   "cell_type": "markdown",
   "id": "44949f07-8370-46c5-9dd8-3465c7e5535a",
   "metadata": {},
   "source": [
    "# Chapter 11: Non-parametric tests"
   ]
  },
  {
   "cell_type": "markdown",
   "id": "933dccf3-e682-4f50-b35c-a9529f6db8ad",
   "metadata": {},
   "source": [
    "### Sign Test"
   ]
  },
  {
   "cell_type": "code",
   "execution_count": 3,
   "id": "c83610c4-39da-491e-ba7f-468fefcb165e",
   "metadata": {},
   "outputs": [
    {
     "name": "stdout",
     "output_type": "stream",
     "text": [
      "Positive signs: 17\n",
      "Negative signs: 0\n",
      "Ties: 3\n",
      "P-value: 0.0000\n"
     ]
    }
   ],
   "source": [
    "from scipy.stats import binomtest\n",
    "import numpy as np\n",
    "  # Customer satisfaction scores (before and after the new system)\n",
    "old_system = [6, 7, 5, 8, 6, 7, 4, 9, 5, 6, 7, 8, 5, 6, 7, 8, 6, 5, 4, 7]\n",
    "new_system = [8, 8, 6, 8, 7, 9, 5, 9, 6, 8, 8, 9, 6, 7, 8, 9, 6, 7, 5, 8]\n",
    "\n",
    "# Convert to numpy arrays\n",
    "old = np.array(old_system)\n",
    "new = np.array(new_system)\n",
    "\n",
    "# Calculate differences\n",
    "diff = new - old\n",
    "\n",
    "# Count positive and negative signs (exclude ties)\n",
    "positive = np.sum(diff > 0)\n",
    "negative = np.sum(diff < 0)\n",
    "n = positive + negative\n",
    "\n",
    "# Perform two-sided binomial test\n",
    "result = binomtest(positive, n=n, p=0.5, alternative='two-sided')\n",
    "\n",
    "# Print results\n",
    "print(f\"Positive signs: {positive}\")\n",
    "print(f\"Negative signs: {negative}\")\n",
    "print(f\"Ties: {np.sum(diff == 0)}\")\n",
    "print(f\"P-value: {result.pvalue:.4f}\")"
   ]
  },
  {
   "cell_type": "markdown",
   "id": "62597ada-092d-4c68-ac0b-bebce811aef8",
   "metadata": {},
   "source": [
    "### Wilcoxon Rank-Sum Test (Mann-Whitney U Test)"
   ]
  },
  {
   "cell_type": "code",
   "execution_count": 4,
   "id": "ea64585f-be57-4416-bef7-a04e8e12f03a",
   "metadata": {},
   "outputs": [
    {
     "name": "stdout",
     "output_type": "stream",
     "text": [
      "Mann-Whitney U Statistic: 0.0000\n",
      "P-value: 0.0001\n",
      "Reject the null hypothesis: Diet B leads to significantly greater weight loss.\n"
     ]
    },
    {
     "name": "stderr",
     "output_type": "stream",
     "text": [
      "/var/folders/b8/hq7p21n142n321y966q8j1600000gn/T/ipykernel_6995/4039517031.py:22: MatplotlibDeprecationWarning: The 'labels' parameter of boxplot() has been renamed 'tick_labels' since Matplotlib 3.9; support for the old name will be dropped in 3.11.\n",
      "  plt.boxplot([diet_A, diet_B], labels=['Diet A', 'Diet B'])\n"
     ]
    },
    {
     "data": {
      "image/png": "[encoded data removed]",
      "text/plain": [
       "<Figure size 640x480 with 1 Axes>"
      ]
     },
     "metadata": {},
     "output_type": "display_data"
    }
   ],
   "source": [
    "import scipy.stats as stats\n",
    "import matplotlib.pyplot as plt\n",
    "\n",
    "# Weight loss data (in kg) after 8 weeks\n",
    "diet_A = [3.2, 2.8, 3.6, 4.1, 2.9, 3.5, 3.0, 4.2, 3.1, 3.8]\n",
    "diet_B = [4.5, 5.1, 4.8, 6.0, 5.5, 5.7, 4.9, 5.8, 5.0, 5.6]\n",
    "\n",
    "# Perform Mann-Whitney U Test\n",
    "stat, p_value = stats.mannwhitneyu(diet_A, diet_B, alternative='less')\n",
    "\n",
    "# Display the results\n",
    "print(f'Mann-Whitney U Statistic: {stat:.4f}')\n",
    "print(f'P-value: {p_value:.4f}')\n",
    "\n",
    "# Interpretation\n",
    "alpha = 0.05\n",
    "if p_value < alpha:\n",
    "    print(\"Reject the null hypothesis: Diet B leads to significantly greater weight loss.\")\n",
    "else:\n",
    "    print(\"Fail to reject the null hypothesis: No significant difference in weight loss.\")\n",
    "\n",
    "plt.boxplot([diet_A, diet_B], labels=['Diet A', 'Diet B'])\n",
    "plt.title('The Weight Losses of Two Diet Program')\n",
    "plt.ylabel('Weight Loss')\n",
    "plt.show()"
   ]
  },
  {
   "cell_type": "code",
   "execution_count": null,
   "id": "215238be-a5de-451e-8d14-091ddc36c4d2",
   "metadata": {},
   "outputs": [],
   "source": []
  },
  {
   "cell_type": "code",
   "execution_count": null,
   "id": "4bf28025-1a74-4eea-8b7c-09a82f57f247",
   "metadata": {},
   "outputs": [],
   "source": []
  },
  {
   "cell_type": "code",
   "execution_count": null,
   "id": "16723f92-8707-4a1a-bc65-967391a8cdd5",
   "metadata": {},
   "outputs": [],
   "source": []
  }
 ],
 "metadata": {
  "kernelspec": {
   "display_name": "STAT",
   "language": "python",
   "name": "stat"
  },
  "language_info": {
   "codemirror_mode": {
    "name": "ipython",
    "version": 3
   },
   "file_extension": ".py",
   "mimetype": "text/x-python",
   "name": "python",
   "nbconvert_exporter": "python",
   "pygments_lexer": "ipython3",
   "version": "3.11.11"
  }
 },
 "nbformat": 4,
 "nbformat_minor": 5
}
